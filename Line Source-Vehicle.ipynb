{
 "cells": [
  {
   "cell_type": "code",
   "execution_count": 8,
   "id": "9fa81240",
   "metadata": {},
   "outputs": [
    {
     "name": "stdout",
     "output_type": "stream",
     "text": [
      "\n",
      "This is a model for calculating concentration of a airborne pollutant near a bridge\n",
      "v = speed of vehicles in kmph\n",
      "n = number of vehicles per hour going through the bridge\n",
      "std = standard limit in gm/km\n",
      "\n",
      "v(kmph) = 60\n",
      "n = 8000\n",
      "standard limit(gm/km) = 24\n",
      "U(m/s) = 4\n",
      "x is distance in the direction of the wind\n",
      "z is the altitude\n",
      "phi is the angle between the direction of the bridge and the wind\n",
      "x(m) = 1000\n",
      "z(m) = 2\n",
      "phi(degrees) = 60\n",
      "H(m) = 0\n",
      "C =  0.0001 g/cubic meteres\n"
     ]
    }
   ],
   "source": [
    "import math \n",
    "\n",
    "print(\"\"\"\n",
    "This is a model for calculating concentration of a airborne pollutant near a bridge\n",
    "v = speed of vehicles in kmph\n",
    "n = number of vehicles per hour going through the bridge\n",
    "std = standard limit in gm/km\n",
    "\"\"\")\n",
    "v = float(input(\"v(kmph) = \"))\n",
    "n = float(input(\"n = \"))\n",
    "std = float(input(\"standard limit(gm/km) = \"))\n",
    "\n",
    "e_rate_per_vehicle = v * std / 3600\n",
    "no_per_lenght = n / (v * 1000)\n",
    "\n",
    "\"q is defined as Q/length\"\n",
    "q = e_rate_per_vehicle * no_per_lenght\n",
    "\n",
    "U = float(input(\"U(m/s) = \"))\n",
    "\n",
    "print(\"x is distance in the direction of the wind\")\n",
    "print(\"z is the altitude\")\n",
    "print(\"phi is the angle between the direction of the bridge and the wind\")\n",
    "x = float(input(\"x(m) = \"))\n",
    "z = float(input(\"z(m) = \" ))   \n",
    "phi = float(input(\"phi(degrees) = \"))\n",
    "\n",
    "x = float(x)\n",
    "z = float(z)\n",
    "\n",
    "\"assuming stability class B and considering x\"\n",
    "if x < 1000:\n",
    "    c = 106.6\n",
    "    d = 1.149\n",
    "    f = 3.3\n",
    "else: \n",
    "    c = 108.2\n",
    "    d = 1.098\n",
    "    f = 2\n",
    "\"calculating sigma_z\"\n",
    "sigma_z = c * ((x / 1000) ** d) + f\n",
    "\n",
    "H = float(input(\"H(m) = \"))\n",
    "\n",
    "\"Denominator simplified here\"\n",
    "u = ((2* math.pi) ** 0.5) * U * sigma_z * math.sin(math.pi * phi / 180)\n",
    "\n",
    "\"Altitude considered here\"\n",
    "v = math.exp((-(z-H)**2)/(2 * sigma_z ** 2))\n",
    "\n",
    "\"Ground reflection considered here\"\n",
    "w = math.exp((-(z+H)**2)/(2 * sigma_z ** 2))\n",
    "\n",
    "C = ( q / u * (v + w))\n",
    "print(\"C = \", round(C,4),\"g/cubic meteres\")"
   ]
  },
  {
   "cell_type": "code",
   "execution_count": null,
   "id": "d5f41a4e",
   "metadata": {},
   "outputs": [],
   "source": []
  },
  {
   "cell_type": "code",
   "execution_count": null,
   "id": "a387f5bd",
   "metadata": {},
   "outputs": [],
   "source": []
  }
 ],
 "metadata": {
  "kernelspec": {
   "display_name": "Python 3 (ipykernel)",
   "language": "python",
   "name": "python3"
  },
  "language_info": {
   "codemirror_mode": {
    "name": "ipython",
    "version": 3
   },
   "file_extension": ".py",
   "mimetype": "text/x-python",
   "name": "python",
   "nbconvert_exporter": "python",
   "pygments_lexer": "ipython3",
   "version": "3.9.12"
  }
 },
 "nbformat": 4,
 "nbformat_minor": 5
}
