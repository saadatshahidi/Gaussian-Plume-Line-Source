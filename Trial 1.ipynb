{
 "cells": [
  {
   "cell_type": "code",
   "execution_count": 1,
   "id": "667ec55b",
   "metadata": {},
   "outputs": [
    {
     "name": "stdout",
     "output_type": "stream",
     "text": [
      "5\n"
     ]
    }
   ],
   "source": [
    "c = 2 + 3\n",
    "print(c)"
   ]
  },
  {
   "cell_type": "code",
   "execution_count": 2,
   "id": "5007c14a",
   "metadata": {},
   "outputs": [
    {
     "ename": "SyntaxError",
     "evalue": "invalid syntax (2653412097.py, line 1)",
     "output_type": "error",
     "traceback": [
      "\u001b[1;36m  Input \u001b[1;32mIn [2]\u001b[1;36m\u001b[0m\n\u001b[1;33m    is 2 == 2\u001b[0m\n\u001b[1;37m    ^\u001b[0m\n\u001b[1;31mSyntaxError\u001b[0m\u001b[1;31m:\u001b[0m invalid syntax\n"
     ]
    }
   ],
   "source": [
    "is 2 == 2\n"
   ]
  },
  {
   "cell_type": "code",
   "execution_count": 3,
   "id": "9bc96f57",
   "metadata": {},
   "outputs": [
    {
     "ename": "SyntaxError",
     "evalue": "invalid syntax (1186002329.py, line 1)",
     "output_type": "error",
     "traceback": [
      "\u001b[1;36m  Input \u001b[1;32mIn [3]\u001b[1;36m\u001b[0m\n\u001b[1;33m    is (2 == 2)\u001b[0m\n\u001b[1;37m    ^\u001b[0m\n\u001b[1;31mSyntaxError\u001b[0m\u001b[1;31m:\u001b[0m invalid syntax\n"
     ]
    }
   ],
   "source": [
    "is (2 == 2)"
   ]
  },
  {
   "cell_type": "code",
   "execution_count": 1,
   "id": "a3140223",
   "metadata": {},
   "outputs": [
    {
     "name": "stdout",
     "output_type": "stream",
     "text": [
      "Q(mass/s)2\n"
     ]
    }
   ],
   "source": [
    "Q = float(input(\"Q(mass/s)\"))"
   ]
  },
  {
   "cell_type": "code",
   "execution_count": 2,
   "id": "53ebfba8",
   "metadata": {},
   "outputs": [
    {
     "data": {
      "text/plain": [
       "2.0"
      ]
     },
     "execution_count": 2,
     "metadata": {},
     "output_type": "execute_result"
    }
   ],
   "source": [
    "Q"
   ]
  },
  {
   "cell_type": "code",
   "execution_count": 3,
   "id": "c0794efc",
   "metadata": {},
   "outputs": [
    {
     "name": "stdout",
     "output_type": "stream",
     "text": [
      "U(m/s)2\n",
      "sigma_y2\n",
      "sigma_z2\n",
      "sigma_y2\n"
     ]
    },
    {
     "ename": "TypeError",
     "evalue": "cannot unpack non-iterable float object",
     "output_type": "error",
     "traceback": [
      "\u001b[1;31m---------------------------------------------------------------------------\u001b[0m",
      "\u001b[1;31mTypeError\u001b[0m                                 Traceback (most recent call last)",
      "Input \u001b[1;32mIn [3]\u001b[0m, in \u001b[0;36m<cell line: 4>\u001b[1;34m()\u001b[0m\n\u001b[0;32m      2\u001b[0m sigma_y \u001b[38;5;241m=\u001b[39m \u001b[38;5;28mfloat\u001b[39m(\u001b[38;5;28minput\u001b[39m(\u001b[38;5;124m\"\u001b[39m\u001b[38;5;124msigma_y\u001b[39m\u001b[38;5;124m\"\u001b[39m))\n\u001b[0;32m      3\u001b[0m sigma_z \u001b[38;5;241m=\u001b[39m \u001b[38;5;28mfloat\u001b[39m(\u001b[38;5;28minput\u001b[39m(\u001b[38;5;124m\"\u001b[39m\u001b[38;5;124msigma_z\u001b[39m\u001b[38;5;124m\"\u001b[39m))\n\u001b[1;32m----> 4\u001b[0m x,y,z \u001b[38;5;241m=\u001b[39m \u001b[38;5;28mfloat\u001b[39m(\u001b[38;5;28minput\u001b[39m(\u001b[38;5;124m\"\u001b[39m\u001b[38;5;124msigma_y\u001b[39m\u001b[38;5;124m\"\u001b[39m))\n",
      "\u001b[1;31mTypeError\u001b[0m: cannot unpack non-iterable float object"
     ]
    }
   ],
   "source": [
    "U = float(input(\"U(m/s)\"))\n",
    "sigma_y = float(input(\"sigma_y\"))\n",
    "sigma_z = float(input(\"sigma_z\"))\n",
    "x,y,z = float(input(\"sigma_y\"))"
   ]
  },
  {
   "cell_type": "code",
   "execution_count": 4,
   "id": "10224211",
   "metadata": {},
   "outputs": [
    {
     "name": "stdout",
     "output_type": "stream",
     "text": [
      "x y z2.2 3 4\n"
     ]
    },
    {
     "ename": "TypeError",
     "evalue": "float() argument must be a string or a number, not 'builtin_function_or_method'",
     "output_type": "error",
     "traceback": [
      "\u001b[1;31m---------------------------------------------------------------------------\u001b[0m",
      "\u001b[1;31mTypeError\u001b[0m                                 Traceback (most recent call last)",
      "Input \u001b[1;32mIn [4]\u001b[0m, in \u001b[0;36m<cell line: 1>\u001b[1;34m()\u001b[0m\n\u001b[1;32m----> 1\u001b[0m x,y,z \u001b[38;5;241m=\u001b[39m \u001b[38;5;28;43mfloat\u001b[39;49m\u001b[43m(\u001b[49m\u001b[38;5;28;43minput\u001b[39;49m\u001b[43m(\u001b[49m\u001b[38;5;124;43m\"\u001b[39;49m\u001b[38;5;124;43mx y z\u001b[39;49m\u001b[38;5;124;43m\"\u001b[39;49m\u001b[43m)\u001b[49m\u001b[38;5;241;43m.\u001b[39;49m\u001b[43msplit\u001b[49m\u001b[43m)\u001b[49m\n",
      "\u001b[1;31mTypeError\u001b[0m: float() argument must be a string or a number, not 'builtin_function_or_method'"
     ]
    }
   ],
   "source": [
    "x,y,z = float(input(\"x y z\").split)"
   ]
  },
  {
   "cell_type": "code",
   "execution_count": 5,
   "id": "8ef1c4d7",
   "metadata": {},
   "outputs": [
    {
     "name": "stdout",
     "output_type": "stream",
     "text": [
      "x y z1 2 3.3\n"
     ]
    },
    {
     "ename": "TypeError",
     "evalue": "cannot unpack non-iterable builtin_function_or_method object",
     "output_type": "error",
     "traceback": [
      "\u001b[1;31m---------------------------------------------------------------------------\u001b[0m",
      "\u001b[1;31mTypeError\u001b[0m                                 Traceback (most recent call last)",
      "Input \u001b[1;32mIn [5]\u001b[0m, in \u001b[0;36m<cell line: 1>\u001b[1;34m()\u001b[0m\n\u001b[1;32m----> 1\u001b[0m x,y,z \u001b[38;5;241m=\u001b[39m \u001b[38;5;28minput\u001b[39m(\u001b[38;5;124m\"\u001b[39m\u001b[38;5;124mx y z\u001b[39m\u001b[38;5;124m\"\u001b[39m)\u001b[38;5;241m.\u001b[39msplit\n\u001b[0;32m      2\u001b[0m x \u001b[38;5;241m=\u001b[39m \u001b[38;5;28mfloat\u001b[39m(x)\n\u001b[0;32m      3\u001b[0m y \u001b[38;5;241m=\u001b[39m \u001b[38;5;28mfloat\u001b[39m(y)\n",
      "\u001b[1;31mTypeError\u001b[0m: cannot unpack non-iterable builtin_function_or_method object"
     ]
    }
   ],
   "source": [
    "x,y,z = input(\"x y z\").split\n",
    "x = float(x)\n",
    "y = float(y)\n",
    "z = float(z)\n"
   ]
  },
  {
   "cell_type": "code",
   "execution_count": 6,
   "id": "643be777",
   "metadata": {},
   "outputs": [
    {
     "name": "stdout",
     "output_type": "stream",
     "text": [
      "x y z1 2\n"
     ]
    },
    {
     "ename": "ValueError",
     "evalue": "not enough values to unpack (expected 3, got 2)",
     "output_type": "error",
     "traceback": [
      "\u001b[1;31m---------------------------------------------------------------------------\u001b[0m",
      "\u001b[1;31mValueError\u001b[0m                                Traceback (most recent call last)",
      "Input \u001b[1;32mIn [6]\u001b[0m, in \u001b[0;36m<cell line: 1>\u001b[1;34m()\u001b[0m\n\u001b[1;32m----> 1\u001b[0m x,y,z \u001b[38;5;241m=\u001b[39m \u001b[38;5;28minput\u001b[39m(\u001b[38;5;124m\"\u001b[39m\u001b[38;5;124mx y z\u001b[39m\u001b[38;5;124m\"\u001b[39m)\u001b[38;5;241m.\u001b[39msplit()\n\u001b[0;32m      2\u001b[0m x \u001b[38;5;241m=\u001b[39m \u001b[38;5;28mfloat\u001b[39m(x)\n\u001b[0;32m      3\u001b[0m y \u001b[38;5;241m=\u001b[39m \u001b[38;5;28mfloat\u001b[39m(y)\n",
      "\u001b[1;31mValueError\u001b[0m: not enough values to unpack (expected 3, got 2)"
     ]
    }
   ],
   "source": [
    "x,y,z = input(\"x y z\").split()\n",
    "x = float(x)\n",
    "y = float(y)\n",
    "z = float(z)"
   ]
  },
  {
   "cell_type": "code",
   "execution_count": null,
   "id": "b2e34311",
   "metadata": {},
   "outputs": [],
   "source": []
  },
  {
   "cell_type": "code",
   "execution_count": 7,
   "id": "984b87c4",
   "metadata": {},
   "outputs": [
    {
     "name": "stdout",
     "output_type": "stream",
     "text": [
      "x y z1 2 3\n"
     ]
    },
    {
     "ename": "TypeError",
     "evalue": "cannot unpack non-iterable builtin_function_or_method object",
     "output_type": "error",
     "traceback": [
      "\u001b[1;31m---------------------------------------------------------------------------\u001b[0m",
      "\u001b[1;31mTypeError\u001b[0m                                 Traceback (most recent call last)",
      "Input \u001b[1;32mIn [7]\u001b[0m, in \u001b[0;36m<cell line: 1>\u001b[1;34m()\u001b[0m\n\u001b[1;32m----> 1\u001b[0m x,y,z \u001b[38;5;241m=\u001b[39m \u001b[38;5;28minput\u001b[39m(\u001b[38;5;124m\"\u001b[39m\u001b[38;5;124mx y z\u001b[39m\u001b[38;5;124m\"\u001b[39m)\u001b[38;5;241m.\u001b[39msplit\n\u001b[0;32m      2\u001b[0m x \u001b[38;5;241m=\u001b[39m \u001b[38;5;28mfloat\u001b[39m(x)\n\u001b[0;32m      3\u001b[0m y \u001b[38;5;241m=\u001b[39m \u001b[38;5;28mfloat\u001b[39m(y)\n",
      "\u001b[1;31mTypeError\u001b[0m: cannot unpack non-iterable builtin_function_or_method object"
     ]
    }
   ],
   "source": [
    "x,y,z = input(\"x y z\").split\n",
    "x = float(x)\n",
    "y = float(y)\n",
    "z = float(z)"
   ]
  },
  {
   "cell_type": "code",
   "execution_count": 8,
   "id": "6df09ee5",
   "metadata": {},
   "outputs": [
    {
     "name": "stdout",
     "output_type": "stream",
     "text": [
      "x y z1 2 3\n"
     ]
    }
   ],
   "source": [
    "x,y,z = input(\"x y z\").split()\n",
    "x = float(x)\n",
    "y = float(y)\n",
    "z = float(z)"
   ]
  },
  {
   "cell_type": "code",
   "execution_count": 9,
   "id": "b5e600e6",
   "metadata": {},
   "outputs": [
    {
     "data": {
      "text/plain": [
       "1.0"
      ]
     },
     "execution_count": 9,
     "metadata": {},
     "output_type": "execute_result"
    }
   ],
   "source": [
    "x"
   ]
  },
  {
   "cell_type": "code",
   "execution_count": 10,
   "id": "c4d8e731",
   "metadata": {},
   "outputs": [
    {
     "name": "stdout",
     "output_type": "stream",
     "text": [
      "Q(mass/s)5.15\n",
      "U(m/s)5.15\n",
      "sigma_y140\n",
      "sigma_z100\n",
      "x y z1000 0 0\n",
      "H(m)100\n"
     ]
    }
   ],
   "source": [
    "import math \n",
    "\n",
    "Q = float(input(\"Q(mass/s)\"))\n",
    "U = float(input(\"U(m/s)\"))\n",
    "sigma_y = float(input(\"sigma_y\"))\n",
    "sigma_z = float(input(\"sigma_z\"))\n",
    "x,y,z = input(\"x y z\").split()\n",
    "H = float(input(\"H(m)\"))\n",
    "x = float(x)\n",
    "y = float(y)\n",
    "z = float(z)\n",
    "\n",
    "C = Q / (2 * math.pi * U * sigma_y * sigma_z) * math.exp((-(y)**2)/(2 * sigma_y**2)) * ((math.exp(-(z-H)**2)/(2 * sigma_z ** 2)) + (math.exp(-(z + H)**2)/(2 * sigma_z ** 2)))"
   ]
  },
  {
   "cell_type": "code",
   "execution_count": 11,
   "id": "ff5e0c79",
   "metadata": {},
   "outputs": [
    {
     "data": {
      "text/plain": [
       "0.0"
      ]
     },
     "execution_count": 11,
     "metadata": {},
     "output_type": "execute_result"
    }
   ],
   "source": [
    "C\n"
   ]
  },
  {
   "cell_type": "code",
   "execution_count": 12,
   "id": "3a7d84ed",
   "metadata": {},
   "outputs": [
    {
     "name": "stdout",
     "output_type": "stream",
     "text": [
      "Q(mass/s) = 5.15\n",
      "U(m/s) = 5.15\n",
      "sigma_y(m) = 140\n",
      "sigma_z(m) = 71\n",
      "x y z 1000 2 3\n",
      "H(m) = 80\n",
      "0.0\n"
     ]
    }
   ],
   "source": [
    "import math \n",
    "\n",
    "Q = float(input(\"Q(mass/s) = \"))\n",
    "U = float(input(\"U(m/s) = \"))\n",
    "sigma_y = float(input(\"sigma_y(m) = \"))\n",
    "sigma_z = float(input(\"sigma_z(m) = \"))\n",
    "x,y,z = input(\"x y z \").split()\n",
    "H = float(input(\"H(m) = \"))\n",
    "x = float(x)\n",
    "y = float(y)\n",
    "z = float(z)\n",
    "\n",
    "a = (2 * math.pi * U * sigma_y * sigma_z)\n",
    "b = math.exp((-(y)**2)/(2 * sigma_y**2))\n",
    "d = ((math.exp(-(z-H)**2)/(2 * sigma_z ** 2)) + (math.exp(-(z + H)**2)/(2 * sigma_z ** 2)))\n",
    "\n",
    "print(a,b,d)\n",
    "\n",
    "C = Q / (2 * math.pi * U * sigma_y * sigma_z) * math.exp((-(y)**2)/(2 * sigma_y**2)) * ((math.exp(-(z-H)**2)/(2 * sigma_z ** 2)) + (math.exp(-(z + H)**2)/(2 * sigma_z ** 2)))\n",
    "\n",
    "print(C)"
   ]
  },
  {
   "cell_type": "code",
   "execution_count": 13,
   "id": "71196d31",
   "metadata": {},
   "outputs": [],
   "source": [
    "a = (2 * math.pi * U * sigma_y * sigma_z)\n",
    "b = math.exp((-(y)**2)/(2 * sigma_y**2))\n",
    "d = ((math.exp(-(z-H)**2)/(2 * sigma_z ** 2)) + (math.exp(-(z + H)**2)/(2 * sigma_z ** 2)))"
   ]
  },
  {
   "cell_type": "code",
   "execution_count": 14,
   "id": "21a91096",
   "metadata": {},
   "outputs": [
    {
     "name": "stdout",
     "output_type": "stream",
     "text": [
      "321642.53905983025 0.9998979643896605 0.0\n"
     ]
    }
   ],
   "source": [
    "print(a,b,d)"
   ]
  },
  {
   "cell_type": "code",
   "execution_count": 15,
   "id": "8e3408b1",
   "metadata": {},
   "outputs": [
    {
     "data": {
      "text/plain": [
       "9e-21"
      ]
     },
     "execution_count": 15,
     "metadata": {},
     "output_type": "execute_result"
    }
   ],
   "source": [
    "0.000000000000000000009\n"
   ]
  },
  {
   "cell_type": "code",
   "execution_count": 16,
   "id": "2db7210a",
   "metadata": {},
   "outputs": [
    {
     "ename": "SyntaxError",
     "evalue": "invalid syntax (2711514092.py, line 2)",
     "output_type": "error",
     "traceback": [
      "\u001b[1;36m  Input \u001b[1;32mIn [16]\u001b[1;36m\u001b[0m\n\u001b[1;33m    f = (math.exp(-(z + H)**2)/(2 * sigma_z ** 2)))\u001b[0m\n\u001b[1;37m    ^\u001b[0m\n\u001b[1;31mSyntaxError\u001b[0m\u001b[1;31m:\u001b[0m invalid syntax\n"
     ]
    }
   ],
   "source": [
    "e = ((math.exp(-(z-H)**2)/(2 * sigma_z ** 2))\n",
    "f = (math.exp(-(z + H)**2)/(2 * sigma_z ** 2)))"
   ]
  },
  {
   "cell_type": "code",
   "execution_count": 17,
   "id": "544cfdb5",
   "metadata": {},
   "outputs": [
    {
     "ename": "SyntaxError",
     "evalue": "invalid syntax (2390794196.py, line 2)",
     "output_type": "error",
     "traceback": [
      "\u001b[1;36m  Input \u001b[1;32mIn [17]\u001b[1;36m\u001b[0m\n\u001b[1;33m    f = ((math.exp(-(z + H)**2)/(2 * sigma_z ** 2))\u001b[0m\n\u001b[1;37m    ^\u001b[0m\n\u001b[1;31mSyntaxError\u001b[0m\u001b[1;31m:\u001b[0m invalid syntax\n"
     ]
    }
   ],
   "source": [
    "e = ((math.exp(-(z-H)**2)/(2 * sigma_z ** 2))\n",
    "f = (math.exp(-(z + H)**2)/(2 * sigma_z ** 2))"
   ]
  },
  {
   "cell_type": "code",
   "execution_count": 18,
   "id": "7343c5f3",
   "metadata": {},
   "outputs": [
    {
     "ename": "SyntaxError",
     "evalue": "invalid syntax (2390794196.py, line 2)",
     "output_type": "error",
     "traceback": [
      "\u001b[1;36m  Input \u001b[1;32mIn [18]\u001b[1;36m\u001b[0m\n\u001b[1;33m    f = ((math.exp(-(z + H)**2)/(2 * sigma_z ** 2))\u001b[0m\n\u001b[1;37m    ^\u001b[0m\n\u001b[1;31mSyntaxError\u001b[0m\u001b[1;31m:\u001b[0m invalid syntax\n"
     ]
    }
   ],
   "source": [
    "e = ((math.exp(-(z-H)**2)/(2 * sigma_z ** 2))\n",
    "f = ((math.exp(-(z + H)**2)/(2 * sigma_z ** 2))"
   ]
  },
  {
   "cell_type": "code",
   "execution_count": 19,
   "id": "6917bc76",
   "metadata": {},
   "outputs": [
    {
     "ename": "SyntaxError",
     "evalue": "invalid syntax (1451008797.py, line 2)",
     "output_type": "error",
     "traceback": [
      "\u001b[1;36m  Input \u001b[1;32mIn [19]\u001b[1;36m\u001b[0m\n\u001b[1;33m    f = ((math.exp(-(z+H)**2)/(2 * sigma_z ** 2))\u001b[0m\n\u001b[1;37m    ^\u001b[0m\n\u001b[1;31mSyntaxError\u001b[0m\u001b[1;31m:\u001b[0m invalid syntax\n"
     ]
    }
   ],
   "source": [
    "e = ((math.exp(-(z-H)**2)/(2 * sigma_z ** 2))\n",
    "f = ((math.exp(-(z+H)**2)/(2 * sigma_z ** 2))"
   ]
  },
  {
   "cell_type": "code",
   "execution_count": 20,
   "id": "adbceef8",
   "metadata": {},
   "outputs": [],
   "source": [
    "e = (math.exp(-(z-H)**2)/(2 * sigma_z ** 2))\n",
    "f = (math.exp(-(z+H)**2)/(2 * sigma_z ** 2))"
   ]
  },
  {
   "cell_type": "code",
   "execution_count": 21,
   "id": "bf542f35",
   "metadata": {},
   "outputs": [
    {
     "data": {
      "text/plain": [
       "0.0"
      ]
     },
     "execution_count": 21,
     "metadata": {},
     "output_type": "execute_result"
    }
   ],
   "source": [
    "e\n",
    "f"
   ]
  },
  {
   "cell_type": "code",
   "execution_count": null,
   "id": "a04d80c8",
   "metadata": {},
   "outputs": [],
   "source": [
    "z\n"
   ]
  }
 ],
 "metadata": {
  "kernelspec": {
   "display_name": "Python 3 (ipykernel)",
   "language": "python",
   "name": "python3"
  },
  "language_info": {
   "codemirror_mode": {
    "name": "ipython",
    "version": 3
   },
   "file_extension": ".py",
   "mimetype": "text/x-python",
   "name": "python",
   "nbconvert_exporter": "python",
   "pygments_lexer": "ipython3",
   "version": "3.9.12"
  }
 },
 "nbformat": 4,
 "nbformat_minor": 5
}
