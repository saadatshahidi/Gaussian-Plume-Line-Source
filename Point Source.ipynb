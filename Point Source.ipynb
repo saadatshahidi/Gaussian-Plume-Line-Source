{
 "cells": [
  {
   "cell_type": "code",
   "execution_count": 3,
   "id": "d3090d6e",
   "metadata": {},
   "outputs": [
    {
     "name": "stdout",
     "output_type": "stream",
     "text": [
      "Q(mass/s)5\n",
      "U(m/s)5\n",
      "sigma_y(m) = 2\n",
      "sigma_z(m) = 35\n",
      "x y z 22 22 22\n",
      "H(m)464\n"
     ]
    },
    {
     "data": {
      "text/plain": [
       "2.8254440489182573e-64"
      ]
     },
     "execution_count": 3,
     "metadata": {},
     "output_type": "execute_result"
    }
   ],
   "source": [
    "import math \n",
    "\n",
    "Q = float(input(\"Q(mass/s)\"))\n",
    "U = float(input(\"U(m/s)\"))\n",
    "sigma_y = float(input(\"sigma_y(m) = \"))\n",
    "sigma_z = float(input(\"sigma_z(m) = \"))\n",
    "x,y,z = input(\"x y z \").split()\n",
    "H = float(input(\"H(m)\"))\n",
    "\n",
    "\n",
    "x = float(x)\n",
    "y = float(y)\n",
    "z = float(z)\n",
    "\n",
    "a = (2 * math.pi * U * sigma_y * sigma_z)\n",
    "b = math.exp((-(y)**2)/(2 * sigma_y**2))\n",
    "e = math.exp((-(z-H)**2)/(2 * sigma_z ** 2))\n",
    "f = math.exp((-(z+H)**2)/(2 * sigma_z ** 2))\n",
    "\n",
    "\n",
    "\n",
    "C = Q / a * b * (e + f)\n",
    "C"
   ]
  },
  {
   "cell_type": "code",
   "execution_count": null,
   "id": "c753df60",
   "metadata": {},
   "outputs": [],
   "source": []
  }
 ],
 "metadata": {
  "kernelspec": {
   "display_name": "Python 3 (ipykernel)",
   "language": "python",
   "name": "python3"
  },
  "language_info": {
   "codemirror_mode": {
    "name": "ipython",
    "version": 3
   },
   "file_extension": ".py",
   "mimetype": "text/x-python",
   "name": "python",
   "nbconvert_exporter": "python",
   "pygments_lexer": "ipython3",
   "version": "3.9.12"
  }
 },
 "nbformat": 4,
 "nbformat_minor": 5
}
