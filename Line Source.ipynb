{
 "cells": [
  {
   "cell_type": "code",
   "execution_count": 17,
   "id": "9fa81240",
   "metadata": {},
   "outputs": [
    {
     "name": "stdout",
     "output_type": "stream",
     "text": [
      "q(mass/s-m)2.5e-3\n",
      "U(m/s)4\n",
      "x is in the direction of the wind\n",
      "z is the altitude\n",
      "x(m) z(m) 300 0\n",
      "H(m)0\n",
      "1.6606990781776365e-05\n"
     ]
    }
   ],
   "source": [
    "import math \n",
    "\n",
    "\"q is defined as Q/length\"\n",
    "q = float(input(\"q(mass/s-m)\"))\n",
    "\n",
    "U = float(input(\"U(m/s)\"))\n",
    "\n",
    "\"Later : check for ways to automatize sigma_z\"\n",
    "\n",
    "print(\"x is in the direction of the wind\")\n",
    "print(\"z is the altitude\")\n",
    "x, z = input(\"x(m) z(m) \").split()\n",
    "\n",
    "x = float(x)\n",
    "z = float(z)\n",
    "\n",
    "\"considering stability classB\"\n",
    "\n",
    "if x < 1000:\n",
    "    c = 106.6\n",
    "    d = 1.149\n",
    "    f = 3.3\n",
    "else: \n",
    "    c = 108.2\n",
    "    d = 1.098\n",
    "    f = 2\n",
    "\"calculating sigma_z\"\n",
    "sigma_z = c * ((x / 1000) ** d) + f\n",
    "\n",
    "H = float(input(\"H(m)\"))\n",
    "\n",
    "\n",
    "\n",
    "\"Denominator simplified here\"\n",
    "u = ((2* math.pi) ** 0.5) * U * sigma_z\n",
    "\n",
    "\"Altitude considered here\"\n",
    "v = math.exp((-(z-H)**2)/(2 * sigma_z ** 2))\n",
    "\n",
    "\"Ground reflection considered here\"\n",
    "w = math.exp((-(z+H)**2)/(2 * sigma_z ** 2))\n",
    "\n",
    "\n",
    "\n",
    "C = ( q / u * (v + w))\n",
    "print(C)"
   ]
  },
  {
   "cell_type": "code",
   "execution_count": 18,
   "id": "667a7d0a",
   "metadata": {},
   "outputs": [
    {
     "data": {
      "text/plain": [
       "30.028188553522508"
      ]
     },
     "execution_count": 18,
     "metadata": {},
     "output_type": "execute_result"
    }
   ],
   "source": [
    "sigma_z"
   ]
  },
  {
   "cell_type": "code",
   "execution_count": null,
   "id": "20392a3d",
   "metadata": {},
   "outputs": [],
   "source": []
  }
 ],
 "metadata": {
  "kernelspec": {
   "display_name": "Python 3 (ipykernel)",
   "language": "python",
   "name": "python3"
  },
  "language_info": {
   "codemirror_mode": {
    "name": "ipython",
    "version": 3
   },
   "file_extension": ".py",
   "mimetype": "text/x-python",
   "name": "python",
   "nbconvert_exporter": "python",
   "pygments_lexer": "ipython3",
   "version": "3.9.12"
  }
 },
 "nbformat": 4,
 "nbformat_minor": 5
}
